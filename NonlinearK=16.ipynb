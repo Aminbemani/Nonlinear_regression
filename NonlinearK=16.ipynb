{
 "cells": [
  {
   "cell_type": "code",
   "execution_count": 85,
   "metadata": {},
   "outputs": [],
   "source": [
    "import numpy as np\n",
    "import pandas as pd\n",
    "import matplotlib.pyplot as plt\n",
    "from sklearn.linear_model import LinearRegression"
   ]
  },
  {
   "cell_type": "code",
   "execution_count": 86,
   "metadata": {},
   "outputs": [],
   "source": [
    "lr_model_N5=LinearRegression(normalize=True)\n",
    "lr_model_N10=LinearRegression(normalize=True)\n",
    "lr_model_N25=LinearRegression(normalize=True)\n",
    "lr_model_N100=LinearRegression(normalize=True)"
   ]
  },
  {
   "cell_type": "code",
   "execution_count": 87,
   "metadata": {},
   "outputs": [],
   "source": [
    "X=np.random.rand(100,1)*20\n",
    "y=2.358*X-3.121\n",
    "y=y+np.random.normal(scale=3, size=y.shape)"
   ]
  },
  {
   "cell_type": "code",
   "execution_count": 88,
   "metadata": {},
   "outputs": [],
   "source": [
    "X=np.hstack((X,X**2,X**3,X**4,X**5,X**6,X**7,X**8,X**9,X**10,X**11,X**12,X**13,X**14,X**15,X**16))"
   ]
  },
  {
   "cell_type": "code",
   "execution_count": 89,
   "metadata": {},
   "outputs": [
    {
     "data": {
      "text/plain": [
       "LinearRegression(copy_X=True, fit_intercept=True, n_jobs=None, normalize=True)"
      ]
     },
     "execution_count": 89,
     "metadata": {},
     "output_type": "execute_result"
    }
   ],
   "source": [
    "lr_model_N5.fit(X[0:5,:],y[0:5])\n",
    "lr_model_N10.fit(X[0:10,:],y[0:10])\n",
    "lr_model_N25.fit(X[0:25,:],y[0:25])\n",
    "lr_model_N100.fit(X[0:100,:],y[0:100])"
   ]
  },
  {
   "cell_type": "code",
   "execution_count": 90,
   "metadata": {},
   "outputs": [
    {
     "name": "stdout",
     "output_type": "stream",
     "text": [
      "Score for N=5 is 1.0\n",
      "Score for N=10 is 1.0\n",
      "Score for N=25 is 0.978\n",
      "Score for N=100 is 0.938\n"
     ]
    }
   ],
   "source": [
    "print('Score for N=5 is {:.3}'.format(lr_model_N5.score(X[0:5,:],y[0:5])))\n",
    "print('Score for N=10 is {:.3}'.format(lr_model_N10.score(X[0:10,:],y[0:10])))\n",
    "print('Score for N=25 is {:.3}'.format(lr_model_N25.score(X[0:25,:],y[0:25])))\n",
    "print('Score for N=100 is {:.3}'.format(lr_model_N100.score(X[0:100,:],y[0:100])))"
   ]
  },
  {
   "cell_type": "code",
   "execution_count": 92,
   "metadata": {},
   "outputs": [
    {
     "data": {
      "image/png": "[encoded data removed]",
      "text/plain": [
       "<Figure size 432x288 with 1 Axes>"
      ]
     },
     "metadata": {
      "needs_background": "light"
     },
     "output_type": "display_data"
    }
   ],
   "source": [
    "X_line=np.arange(-5,20,0.1).reshape(-1,1)\n",
    "X_line1=np.hstack((X_line,X_line**2,X_line**3,X_line**4,X_line**5,X_line**6,X_line**7,X_line**8,X_line**9,X_line**10,X_line**11,X_line**12,X_line**13,X_line**14,X_line**15,X_line**16))\n",
    "y_line_k5=lr_model_N5.predict(X_line1)\n",
    "y_line_k10=lr_model_N10.predict(X_line1)\n",
    "y_line_k25=lr_model_N25.predict(X_line1)\n",
    "y_line_k100=lr_model_N100.predict(X_line1)\n",
    "\n",
    "plt.plot(X_line, y_line_k5)\n",
    "plt.plot(X_line, y_line_k10)\n",
    "plt.plot(X_line, y_line_k25)\n",
    "plt.plot(X_line, y_line_k100)\n",
    "plt.legend(['N=5','N=10','N=25','N=100'])\n",
    "plt.plot(X[:,0],y,'bo')\n",
    "plt.xlabel('X')\n",
    "plt.ylabel('y')\n",
    "plt.show()\n"
   ]
  },
  {
   "cell_type": "code",
   "execution_count": null,
   "metadata": {},
   "outputs": [],
   "source": []
  }
 ],
 "metadata": {
  "kernelspec": {
   "display_name": "Python 3",
   "language": "python",
   "name": "python3"
  },
  "language_info": {
   "codemirror_mode": {
    "name": "ipython",
    "version": 3
   },
   "file_extension": ".py",
   "mimetype": "text/x-python",
   "name": "python",
   "nbconvert_exporter": "python",
   "pygments_lexer": "ipython3",
   "version": "3.7.6"
  }
 },
 "nbformat": 4,
 "nbformat_minor": 4
}
